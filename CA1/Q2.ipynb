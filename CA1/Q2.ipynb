{
  "nbformat": 4,
  "nbformat_minor": 0,
  "metadata": {
    "colab": {
      "provenance": []
    },
    "kernelspec": {
      "name": "python3",
      "display_name": "Python 3"
    },
    "language_info": {
      "name": "python"
    }
  },
  "cells": [
    {
      "cell_type": "markdown",
      "source": [
        "# **Question number : 2**\n",
        "**a:**\n",
        "\n",
        "at first we define pdf(x) and also we know that* Pr{X < k} = ∫f(x)dx* from x = -∞ to x = k.\n",
        "\n",
        "we have imported *scipy.integrate* library and we calculate this intgeral with quad function and save it in *prob*\n",
        "and then we print the first elements of prob list cause the second one is the error rate and we dont need it\n",
        "\n",
        "**b:**\n",
        "\n",
        "theoretical we know that if* Y = aX + b* then *E{Y} = aE{X} + b*.\n",
        "\n",
        "So we have to find the inverse of cdf function like Q1-c to find the mean and with theory at first we calclulate cdf function with ∫f(x)dx from 0 to x and its : *1 - exp(-0.02x)*\n",
        "\n",
        "then we find the inverse of this function which is *-50ln(1-x)* and we put the 1000 items that generated with random.uniform in inverse of cdf and like past question we find the mean of X\n",
        "\n",
        "and then from the upper equation (*E{Y} = aE{X} + b*) we have the mean of Y."
      ],
      "metadata": {
        "id": "fsD7v4rVSmd1"
      }
    },
    {
      "cell_type": "code",
      "execution_count": 11,
      "metadata": {
        "colab": {
          "base_uri": "https://localhost:8080/"
        },
        "id": "6kOJyKAdHkO8",
        "outputId": "06c5fb70-f5f8-481c-dc8b-cc90a896db66"
      },
      "outputs": [
        {
          "output_type": "stream",
          "name": "stdout",
          "text": [
            "P ( X > 60) =  0.30119421191220447\n",
            "Mean of Y distribution is :  2.02088810402072\n"
          ]
        }
      ],
      "source": [
        "import scipy.integrate as integrate\n",
        "import numpy as np\n",
        "import math\n",
        "#1-a :\n",
        "\n",
        "def pdf(x):\n",
        "    return 0.02*math.exp(-0.02*x)\n",
        "\n",
        "prob = integrate.quad(pdf , 60 , np.inf)\n",
        "print(\"P ( X > 60) = \",prob[0])\n",
        "\n",
        "#1-b :\n",
        "\n",
        "def cdf_inv(x):\n",
        "    return -50*np.log(1-x)\n",
        "data = cdf_inv(np.random.uniform(size = 1000))\n",
        "mean_x = np.mean(data)\n",
        "mean_y = 0.5 + 0.03*mean_x\n",
        "print(\"Mean of Y distribution is : \", mean_y)"
      ]
    },
    {
      "cell_type": "markdown",
      "source": [],
      "metadata": {
        "id": "_swZy4GkSlSd"
      }
    },
    {
      "cell_type": "code",
      "source": [],
      "metadata": {
        "id": "9Pl9F82yOETt"
      },
      "execution_count": null,
      "outputs": []
    }
  ]
}