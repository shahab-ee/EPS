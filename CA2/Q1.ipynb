{
  "nbformat": 4,
  "nbformat_minor": 0,
  "metadata": {
    "colab": {
      "provenance": []
    },
    "kernelspec": {
      "name": "python3",
      "display_name": "Python 3"
    },
    "language_info": {
      "name": "python"
    }
  },
  "cells": [
    {
      "cell_type": "markdown",
      "source": [
        "This code simulates taking samples of size 5, 10, 20 and 40(in the \"sample_size:) from a normal population with mean 5 and standard deviation 10, and then calculates the mean of each sample (The for loop which the outer one goes for each samle size and the inner one compute the mean of sample with np.mean(...) function)\n",
        "\n",
        "The code also calculates the average mean for each sample size and save them in \"average_means\" and it also calculate the difference between the average mean and the population mean and then print them.\n",
        "\n",
        "\n",
        "Since the distribution is normal, there is no direct relationship between the sample size and the resulting mean. Therefore, we cannot assert that as the sample size increases, the average value will converge towards the mean of the distribution, which is 5."
      ],
      "metadata": {
        "id": "hqcCzsDxDbuU"
      }
    },
    {
      "cell_type": "code",
      "execution_count": null,
      "metadata": {
        "colab": {
          "base_uri": "https://localhost:8080/"
        },
        "id": "l4PcLAVei84d",
        "outputId": "4842ae10-1236-45d9-90b1-05f6755670ea"
      },
      "outputs": [
        {
          "output_type": "stream",
          "name": "stdout",
          "text": [
            "Sample Size: 5, Average of Means: 5.4568456138501675, Difference from p: 0.45684561385016753\n",
            "Sample Size: 10, Average of Means: 5.488687059875096, Difference from p: 0.48868705987509564\n",
            "Sample Size: 20, Average of Means: 5.477203548163691, Difference from p: 0.4772035481636907\n",
            "Sample Size: 40, Average of Means: 5.4749966166782285, Difference from p: 0.47499661667822846\n"
          ]
        }
      ],
      "source": [
        "import numpy as np\n",
        "\n",
        "mean = 5\n",
        "std_dev = 10\n",
        "\n",
        "population = np.random.normal(mean, std_dev, 1000)\n",
        "sample_sizes = [5, 10, 20, 40]\n",
        "sample_means = {}\n",
        "\n",
        "for size in sample_sizes:\n",
        "    means = []\n",
        "    for _ in range(10000):\n",
        "        sample = np.random.choice(population, size=size, replace=False)\n",
        "        sample_mean = np.mean(sample)\n",
        "        means.append(sample_mean)\n",
        "\n",
        "    sample_means[size] = means\n",
        "\n",
        "average_means = {size: np.mean(means) for size, means in sample_means.items()}\n",
        "for size, avg_mean in average_means.items():\n",
        "    print(f\"Sample Size: {size}, Average of Means: {avg_mean}, Difference from p: {avg_mean - mean}\")\n"
      ]
    }
  ]
}