{
  "nbformat": 4,
  "nbformat_minor": 0,
  "metadata": {
    "colab": {
      "provenance": []
    },
    "kernelspec": {
      "name": "python3",
      "display_name": "Python 3"
    },
    "language_info": {
      "name": "python"
    }
  },
  "cells": [
    {
      "cell_type": "markdown",
      "source": [
        "Initially, we define x and y as symbols. Next, we define f(x, y) as y, and we product a parameter k to the function. Finally, we define the limits of x and y.\n",
        "\n",
        "For part **a**, we compute the double integral ∫∫f(x, y) dy dx using the dblquad function and store the output in a variable named result. Since we know that k * result = 1, we can calculate the value of k as 1 / result.\n",
        "\n",
        "For part **b**, we calculate the following two integrals and print their results:\n",
        "\n",
        "∫f(x, y) dy = f(x)\n",
        "\n",
        "∫f(x, y) dx = f(y)\n",
        "\n",
        "We can see from these results that x and y are not independent, as we would expect based on the theory.\n",
        "\n",
        "(f(x) * f(y) ≠ f(x,y))\n",
        "\n",
        "For part **c**, we calculate the expected value of the function C(x, y), which we denote as E{C(x, y)}. Using the integrate function, we can calculate the following integral:\n",
        "\n",
        "E{C(x, y)} = k∫∫C(x, y)f(x, y) dx dy = ∫∫k(3y + 1.5y² + 2xy)dy dx = ∫∫ g(x,y)dy dx and Finally, we print the result of this calculation."
      ],
      "metadata": {
        "id": "VhveNocln_UD"
      }
    },
    {
      "cell_type": "code",
      "source": [
        "from scipy.integrate import dblquad\n",
        "from sympy import integrate, symbols\n",
        "\n",
        "x, y = symbols('x y')\n",
        "def f(y, x):\n",
        "    return y\n",
        "\n",
        "x_lower_limit = 0\n",
        "x_upper_limit = 2\n",
        "def y_lower_limit(x):\n",
        "    return 0\n",
        "def y_upper_limit(x):\n",
        "    return x**2\n",
        "#a)\n",
        "result = dblquad(f, x_lower_limit, x_upper_limit, y_lower_limit, y_upper_limit)[0]\n",
        "k = round(1 / result, 4)\n",
        "print(\"Value of k:\", k)\n",
        "\n",
        "#b)\n",
        "fx = k * integrate(y, (y, y_lower_limit(x), y_upper_limit(x)))\n",
        "print(\"fX(x) = \", fx)\n",
        "fy = k * integrate(y, (x, x_lower_limit, x_upper_limit))\n",
        "print(\"fY(y) = \", fy)\n",
        "\n",
        "if(fx * fy == y):\n",
        "    print(\"X & Y are independnt\")\n",
        "else:\n",
        "    print(\"X & Y are NOT independent cause \",fx * fy ,\"≠ y\")\n",
        "#c)\n",
        "\n",
        "g =  k*y*(3+2*x+1.5*y)\n",
        "mean = integrate(g,(y, (y_lower_limit(x), y_upper_limit(x))),(x, x_lower_limit, x_upper_limit))\n",
        "print(\"mean diesel consumption is : \",mean)"
      ],
      "metadata": {
        "colab": {
          "base_uri": "https://localhost:8080/"
        },
        "id": "Z9S0GJS6Qr_w",
        "outputId": "a3cd1b3f-c183-431a-d75e-0acd916024ba"
      },
      "execution_count": 50,
      "outputs": [
        {
          "output_type": "stream",
          "name": "stdout",
          "text": [
            "Value of k: 0.3125\n",
            "fX(x) =  0.15625*x**4\n",
            "fY(y) =  0.625*y\n",
            "X & Y are NOT independent cause  0.09765625*x**4*y ≠ y\n",
            "mean diesel consumption is :  9.19047619047619\n"
          ]
        }
      ]
    },
    {
      "cell_type": "code",
      "source": [],
      "metadata": {
        "id": "_KGwO61hoLhN"
      },
      "execution_count": null,
      "outputs": []
    }
  ]
}