{
  "nbformat": 4,
  "nbformat_minor": 0,
  "metadata": {
    "colab": {
      "provenance": []
    },
    "kernelspec": {
      "name": "python3",
      "display_name": "Python 3"
    },
    "language_info": {
      "name": "python"
    }
  },
  "cells": [
    {
      "cell_type": "markdown",
      "source": [
        "To begin, we define x and y as symbols. Next, we define f(x, y) as y, multiplying it by a parameter k. Finally, we set the limits for x and y.\n",
        "\n",
        "It is important to note that we must first draw the area of integration. We have included a JPG file in the zip file that clearly illustrates the limits.\n",
        "\n",
        "It is crucial to integrate only within the regions where there is a probability distribution. If we simply integrate from -2 to +2, the answer will be incorrect.\n",
        "\n",
        "For part a, we compute the double integral ∫∫f(x, y) dy dx using the dblquad function and store the result in a variable called result. As shown in the PDF file, the x limits should be between 1 and 2. We double the answer to accurately determine the value of k. Since we know that k * result = 1, we can compute the value of k as 1 ÷ result.\n",
        "\n",
        "For part b, we calculate the following two integrals and print their results:\n",
        "\n",
        "f(x) = ∫f(x, y) dy (1 < y < x²)\n",
        "\n",
        "f(y) = ∫f(x, y) dx (√y < x < 2 & -2 < x < -√y ) /// or we can double the integral with the first limits\n",
        "\n",
        "For part c, we utilize the following formula to calculate the probability:\n",
        "\n",
        "Pr(y > 1.5 | x < 0.5) = (∫∫f(x, y) dy dx [1.5, x²] [-2, -√(1.5)]) ÷ (∫f(x) dx [-2, -1])\n",
        "\n",
        "We use the integrate(ky, ..., ...) function to calculate the first integral and store the result in q. We use the integrate(fx, ..., ...) function to calculate the second integral and store the result in the variable p. The final result is q ÷ p."
      ],
      "metadata": {
        "id": "uHUgvZmOt_uO"
      }
    },
    {
      "cell_type": "code",
      "execution_count": 3,
      "metadata": {
        "colab": {
          "base_uri": "https://localhost:8080/"
        },
        "id": "ZPez0Q7KsA3u",
        "outputId": "df3d291b-f445-4f46-89ec-0e6cabd59325"
      },
      "outputs": [
        {
          "output_type": "stream",
          "name": "stdout",
          "text": [
            "Value of k: 0.1923\n",
            "fX(x) =  0.09615*x**4 - 0.09615\n",
            "fY(y) =  0.7692*y - 0.3846*y**1.5\n",
            "0.789334763174012\n"
          ]
        }
      ],
      "source": [
        "from scipy.integrate import dblquad\n",
        "from sympy import integrate, symbols\n",
        "import math\n",
        "\n",
        "x, y = symbols('x y')\n",
        "def f(y, x):\n",
        "    return y\n",
        "\n",
        "x_lower_limit = -2\n",
        "x_upper_limit = 2\n",
        "def y_lower_limit(x):\n",
        "    return 1\n",
        "def y_upper_limit(x):\n",
        "    return x**2\n",
        "def fy_lower_limit(y):\n",
        "    return y**0.5\n",
        "#a)\n",
        "result = 2 * dblquad(f, 1, x_upper_limit, y_lower_limit, y_upper_limit)[0]\n",
        "k = round(1 / result, 4)\n",
        "print(\"Value of k:\", k)\n",
        "\n",
        "#b)\n",
        "fx = k * integrate(y, (y, y_lower_limit(x), y_upper_limit(x)))\n",
        "print(\"fX(x) = \", fx)\n",
        "fy = 2 * k * integrate(y, (x, fy_lower_limit(y), x_upper_limit))\n",
        "print(\"fY(y) = \", fy)\n",
        "\n",
        "#c)\n",
        "p = integrate(fx, (x, x_lower_limit, -1))\n",
        "q = integrate(k*y,(y, (1.5, y_upper_limit(x))),(x, x_lower_limit, -math.sqrt(1.5)))\n",
        "result = q/p\n",
        "print(result)"
      ]
    }
  ]
}