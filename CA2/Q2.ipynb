{
  "nbformat": 4,
  "nbformat_minor": 0,
  "metadata": {
    "colab": {
      "provenance": []
    },
    "kernelspec": {
      "name": "python3",
      "display_name": "Python 3"
    },
    "language_info": {
      "name": "python"
    }
  },
  "cells": [
    {
      "cell_type": "markdown",
      "source": [
        "In this part, the only change in the code is on line 5, where we replace the normal distribution with a Poisson distribution using the np.random.poisson command. No further explanation is needed.\n",
        "\n",
        "Additionally, similar to the normal distribution, as the sample size increases, the average of means approaches the distribution mean of 5."
      ],
      "metadata": {
        "id": "ux3HPsinJ4Gb"
      }
    },
    {
      "cell_type": "code",
      "execution_count": 4,
      "metadata": {
        "colab": {
          "base_uri": "https://localhost:8080/"
        },
        "id": "IMTAV3o5FkQU",
        "outputId": "e31a1e83-13f1-4739-8ca7-f119dd588e6a"
      },
      "outputs": [
        {
          "output_type": "stream",
          "name": "stdout",
          "text": [
            "Sample Size: 5, Average of Means: 5.058839999999999, Difference from p: 0.058839999999999115\n",
            "Sample Size: 10, Average of Means: 5.06663, Difference from p: 0.06662999999999997\n",
            "Sample Size: 20, Average of Means: 5.06918, Difference from p: 0.06918000000000024\n",
            "Sample Size: 40, Average of Means: 5.061914999999999, Difference from p: 0.061914999999999054\n"
          ]
        }
      ],
      "source": [
        "import numpy as np\n",
        "\n",
        "mean = 5\n",
        "\n",
        "population = np.random.poisson(mean, 1000)\n",
        "sample_sizes = [5, 10, 20, 40]\n",
        "sample_means = {}\n",
        "\n",
        "for size in sample_sizes:\n",
        "    means = []\n",
        "    for _ in range(10000):\n",
        "        sample = np.random.choice(population, size=size, replace=False)\n",
        "        sample_mean = np.mean(sample)\n",
        "        means.append(sample_mean)\n",
        "\n",
        "    sample_means[size] = means\n",
        "\n",
        "average_means = {size: np.mean(means) for size, means in sample_means.items()}\n",
        "for size, avg_mean in average_means.items():\n",
        "    print(f\"Sample Size: {size}, Average of Means: {avg_mean}, Difference from p: {avg_mean - mean}\")\n"
      ]
    },
    {
      "cell_type": "code",
      "source": [],
      "metadata": {
        "id": "cfEUIWGYK3OE"
      },
      "execution_count": null,
      "outputs": []
    }
  ]
}